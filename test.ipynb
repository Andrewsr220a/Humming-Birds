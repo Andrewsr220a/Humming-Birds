{
 "cells": [
  {
   "cell_type": "code",
   "execution_count": 3,
   "metadata": {},
   "outputs": [],
   "source": [
    "from sqlalchemy import create_engine,func\n",
    "import pandas as pd\n",
    "\n",
    "\n",
    "connection_string = \"postgres:postgress@localhost:5432/twitter_sentiments\"\n",
    "engine = create_engine(f'postgresql://{connection_string}')\n",
    "\n",
    "\n"
   ]
  },
  {
   "cell_type": "code",
   "execution_count": 8,
   "metadata": {},
   "outputs": [
    {
     "data": {
      "text/plain": [
       "dict_values(['gauze pop, indietronica, shiver pop', 'australian hip hop', 'modern rock, rock', 'modern alternative pop', 'dance pop, latin, latin pop, latin viral pop, pop, rap latina, reggaeton, trap latino', 'glam rock, mellow gold, piano rock', 'lgbtq+ hip hop, pop', 'british soul, pop, pop soul, uk pop', 'puerto rican pop, trap latino', 'pop, uk pop', 'Other', 'modern rock, pop', 'canadian pop, pop', 'lgbtq+ hip hop, pop', 'pop, post-teen pop', 'latin, reggaeton, trap latino', 'dance pop, pop', 'pop, uk pop', 'permanent wave, pop', 'belgian edm, edm, pop, pop dance, tropical house', 'Other', 'chicago indie', 'latin, latin hip hop, latin pop, pop reggaeton, reggaeton, trap latino', 'pop', 'atl hip hop, melodic rap, rap, trap', 'latin, reggaeton, trap latino', 'big room, brostep, dance pop, dutch edm, edm, house, pop, pop dance, slap house, trance, tropical house', 'alt z, pop', 'g funk, gangster rap, hip hop, rap, west coast rap', 'canadian contemporary r&b, canadian pop, pop', 'detroit hip hop, hip hop, rap', 'modern alternative rock, modern rock, pop', 'dance pop, pop', 'Other', 'dance pop, pop, viral pop', 'deep underground hip hop, kentucky hip hop, rap', 'mariachi, nuevo regional mexicano, ranchera, regional mexican', 'dance pop, pop', 'modern alternative rock, modern rock, pop', 'pop', 'Other', 'alt z, dance pop, pop, post-teen pop', 'alt z, canadian contemporary r&b, canadian pop, pop', 'detroit hip hop, hip hop, rap', 'Other', 'dance pop, pop, uk pop', 'lgbtq+ hip hop, pop', 'Other', 'colombian pop, latin, reggaeton colombiano', 'reggaeton, trap latino'])"
      ]
     },
     "execution_count": 8,
     "metadata": {},
     "output_type": "execute_result"
    }
   ],
   "source": [
    "\n",
    "    # teams_table = list(engine.execute(\"select * from seasons\"))\n",
    "spotify_db = pd.read_sql('select genre from spotifydb', engine).to_dict()\n",
    "\n",
    "spotify_db['genre'].values()"
   ]
  }
 ],
 "metadata": {
  "interpreter": {
   "hash": "31f2aee4e71d21fbe5cf8b01ff0e069b9275f58929596ceb00d14d90e3e16cd6"
  },
  "kernelspec": {
   "display_name": "Python 3.8.9 64-bit",
   "language": "python",
   "name": "python3"
  },
  "language_info": {
   "codemirror_mode": {
    "name": "ipython",
    "version": 3
   },
   "file_extension": ".py",
   "mimetype": "text/x-python",
   "name": "python",
   "nbconvert_exporter": "python",
   "pygments_lexer": "ipython3",
   "version": "3.8.8"
  },
  "orig_nbformat": 4
 },
 "nbformat": 4,
 "nbformat_minor": 2
}
