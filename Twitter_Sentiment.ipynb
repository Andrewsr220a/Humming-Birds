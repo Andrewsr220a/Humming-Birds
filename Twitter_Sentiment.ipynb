{
  "nbformat": 4,
  "nbformat_minor": 0,
  "metadata": {
    "colab": {
      "name": "Twitter_Sentiment.ipynb",
      "provenance": [],
      "collapsed_sections": []
    },
    "kernelspec": {
      "name": "python3",
      "display_name": "Python 3",
      "language": "python"
    },
    "language_info": {
      "name": "python",
      "version": "3.8.8-final"
    }
  },
  "cells": [
    {
      "cell_type": "code",
      "execution_count": 8,
      "metadata": {
        "id": "aXr0Tm1GJigx"
      },
      "outputs": [],
      "source": [
        "#Import the Libraries \n",
        "from textblob import TextBlob, Word, Blobber\n",
        "from wordcloud import WordCloud \n",
        "import pandas as pd\n",
        "import numpy as np \n",
        "import re\n",
        "import matplotlib.pyplot as plt"
      ]
    },
    {
      "cell_type": "code",
      "source": [
        "from config import KEY\n",
        "from config import SECRET\n",
        "from config import BEAR"
      ],
      "metadata": {
        "colab": {
          "base_uri": "https://localhost:8080/",
          "height": 340
        },
        "id": "edmeCDlEOyxw",
        "outputId": "aa67934d-ae45-4d5e-ee0b-f7360c0e7cf8"
      },
      "execution_count": 1,
      "outputs": []
    },
    {
      "cell_type": "code",
      "source": [
        "# Twitter Api Cred.\n"
      ],
      "metadata": {
        "id": "AS4y94NgNMOJ"
      },
      "execution_count": null,
      "outputs": []
    }
  ]
}